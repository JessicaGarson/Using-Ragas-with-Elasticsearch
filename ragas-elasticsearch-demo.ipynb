{
 "cells": [
  {
   "cell_type": "code",
   "execution_count": 1,
   "id": "b21e3c09-f269-4c42-adc2-35f429d05ed1",
   "metadata": {},
   "outputs": [
    {
     "name": "stdout",
     "output_type": "stream",
     "text": [
      "\n",
      "\u001b[1m[\u001b[0m\u001b[34;49mnotice\u001b[0m\u001b[1;39;49m]\u001b[0m\u001b[39;49m A new release of pip is available: \u001b[0m\u001b[31;49m25.1\u001b[0m\u001b[39;49m -> \u001b[0m\u001b[32;49m25.1.1\u001b[0m\n",
      "\u001b[1m[\u001b[0m\u001b[34;49mnotice\u001b[0m\u001b[1;39;49m]\u001b[0m\u001b[39;49m To update, run: \u001b[0m\u001b[32;49mpip install --upgrade pip\u001b[0m\n"
     ]
    }
   ],
   "source": [
    "!pip install -q elasticsearch ragas datasets langchain-openai"
   ]
  },
  {
   "cell_type": "code",
   "execution_count": 2,
   "id": "4fd48912-9200-4fe9-8162-b0aefe697055",
   "metadata": {},
   "outputs": [],
   "source": [
    "import os\n",
    "import json\n",
    "from getpass import getpass\n",
    "from elasticsearch import Elasticsearch\n",
    "from ragas import evaluate\n",
    "from ragas.metrics import faithfulness, answer_relevancy, context_precision\n",
    "from datasets import Dataset\n",
    "from langchain_openai import ChatOpenAI"
   ]
  },
  {
   "cell_type": "code",
   "execution_count": 3,
   "id": "006ad4a6-9cf7-4506-82d2-992000f049fa",
   "metadata": {},
   "outputs": [
    {
     "name": "stdin",
     "output_type": "stream",
     "text": [
      "Host:  ········\n",
      "API Key:  ········\n"
     ]
    }
   ],
   "source": [
    "es = Elasticsearch(\n",
    "    getpass(\"Host: \"),\n",
    "    api_key=getpass(\"API Key: \"),\n",
    ")"
   ]
  },
  {
   "cell_type": "code",
   "execution_count": 4,
   "id": "6e0cd5f5-5cad-4ad1-ab9d-4c260faeaff1",
   "metadata": {},
   "outputs": [],
   "source": [
    "index_name = \"ragas-books\""
   ]
  },
  {
   "cell_type": "code",
   "execution_count": 5,
   "id": "d02ee988-1b08-4c43-b39d-88c1a6bacf72",
   "metadata": {},
   "outputs": [],
   "source": [
    "def embed_query(text: str):\n",
    "    \n",
    "    res = es.ml.infer_trained_model(\n",
    "        model_id=\".multilingual-e5-small\",\n",
    "        body={\"docs\": [{\"text_field\": f\"query: {text}\"}]}\n",
    "    )\n",
    "    \n",
    "    vec = res[\"inference_results\"][0][\"predicted_value\"]\n",
    "    \n",
    "    return vec"
   ]
  },
  {
   "cell_type": "code",
   "execution_count": 6,
   "id": "507e64cb-40a3-4657-9984-d9ab264014a7",
   "metadata": {},
   "outputs": [
    {
     "name": "stdout",
     "output_type": "stream",
     "text": [
      "Deleted existing index 'ragas-books'\n",
      "Created index 'ragas-books'\n"
     ]
    }
   ],
   "source": [
    "if es.indices.exists(index=index_name):\n",
    "    es.indices.delete(index=index_name)\n",
    "    print(f\"Deleted existing index '{index_name}'\")\n",
    "\n",
    "es.indices.create(index=index_name, body={\n",
    "    \"mappings\": {\n",
    "        \"properties\": {\n",
    "            \"book_title\": {\"type\": \"text\"},\n",
    "            \"author_name\": {\"type\": \"text\"},\n",
    "            \"book_description\": {\"type\": \"text\"},\n",
    "            \"rating_score\": {\"type\": \"float\"},\n",
    "            \"embedding\": {\n",
    "                \"type\": \"dense_vector\",\n",
    "                \"dims\": 384,\n",
    "                \"index\": True,\n",
    "                \"similarity\": \"cosine\"\n",
    "            }\n",
    "        }\n",
    "    }\n",
    "})\n",
    "print(f\"Created index '{index_name}'\")"
   ]
  },
  {
   "cell_type": "code",
   "execution_count": 7,
   "id": "ace8e9fe-c5b8-45c0-bbf7-f6b845fadd61",
   "metadata": {},
   "outputs": [
    {
     "name": "stdout",
     "output_type": "stream",
     "text": [
      "Indexed 1: Lucky 7\n",
      "Indexed 2: Salvation Lost\n",
      "Indexed 3: Alien Warrior's Mate\n",
      "Indexed 4: On the Steel Breeze\n",
      "Indexed 5: Salvage Marines\n",
      "Indexed 6: Trade Secret\n",
      "Indexed 7: There Will Be Time\n",
      "Indexed 8: Only in Death\n",
      "Indexed 9: His To Claim\n",
      "Indexed 10: Savage Drift\n",
      "Indexed 11: Light of the Jedi\n",
      "Indexed 12: Mega Robo Bros\n",
      "Indexed 13: Transmetropolitan, Vol. 1: Back on the Street\n",
      "Indexed 14: The Queen of Traitors\n",
      "Indexed 15: The Island of Doctor Moreau\n",
      "Indexed 16: Human Nature\n",
      "Indexed 17: Legion\n",
      "Indexed 18: Wolfsbane\n",
      "Indexed 19: Lamb: The Gospel According to Biff, Christ's Childhood Pal\n",
      "Indexed 20: Our Pet\n",
      "Indexed 21: The Aylesford Skull\n",
      "Indexed 22: Ghosts of War\n",
      "Indexed 23: The Book of Time\n",
      "Indexed 24: Because It Is My Blood\n",
      "Indexed 25: The Annals of the Heechee\n"
     ]
    }
   ],
   "source": [
    "with open(\"books.json\") as f:\n",
    "    books = json.load(f)\n",
    "\n",
    "for i, book in enumerate(books, 1):\n",
    "    try:\n",
    "        book[\"embedding\"] = embed_query(book[\"book_description\"])\n",
    "        es.index(index=index_name, document=book)\n",
    "        print(f\"Indexed {i}: {book['book_title']}\")\n",
    "    except Exception as e:\n",
    "        print(f\"Failed to index '{book.get('book_title', 'Unknown')}': {e}\")"
   ]
  },
  {
   "cell_type": "code",
   "execution_count": 8,
   "id": "b431670a-86d2-4226-a4bf-8b6aeaa54cab",
   "metadata": {},
   "outputs": [],
   "source": [
    "def vector_search(query, top_k=3):\n",
    "    \n",
    "    query_vector = embed_query(query)\n",
    "    \n",
    "    body = {\n",
    "        \"knn\": {\n",
    "            \"field\": \"embedding\",\n",
    "            \"k\": top_k,\n",
    "            \"num_candidates\": 100,\n",
    "            \"query_vector\": query_vector\n",
    "        },\n",
    "        \"_source\": [\"book_title\", \"author_name\", \"book_description\", \"rating_score\"]\n",
    "    }\n",
    "    \n",
    "    res = es.search(index=index_name, body=body)\n",
    "    hits = res[\"hits\"][\"hits\"]\n",
    "    contexts, books_info = [], []\n",
    "    \n",
    "    for hit in hits:\n",
    "        book = hit[\"_source\"]\n",
    "        context = f\"{book['book_title']} by {book['author_name']}: {book['book_description']}\"\n",
    "        contexts.append(context)\n",
    "        books_info.append(book)\n",
    "    \n",
    "    return contexts, books_info"
   ]
  },
  {
   "cell_type": "code",
   "execution_count": 10,
   "id": "7368d27e-4347-4ba5-8a1d-08500edb37a9",
   "metadata": {},
   "outputs": [
    {
     "name": "stdin",
     "output_type": "stream",
     "text": [
      "OPENAI_API_KEY:  ········\n"
     ]
    }
   ],
   "source": [
    "API_KEY = getpass(\"OPENAI_API_KEY: \")\n",
    "\n",
    "chat_llm = ChatOpenAI(\n",
    "    model=\"gpt-4o\",  \n",
    "    temperature=0.1,\n",
    "    api_key=API_KEY  \n",
    ")"
   ]
  },
  {
   "cell_type": "code",
   "execution_count": 11,
   "id": "6119e008-b231-4f10-aff9-d5e5acc1480a",
   "metadata": {},
   "outputs": [],
   "source": [
    "def generate_answer(question, contexts):\n",
    "    \n",
    "    context_text = \"\\n\\n\".join(contexts)\n",
    "    \n",
    "    prompt = f\"\"\"You are a helpful assistant that recommends books.\n",
    "Use only the information from the context below to answer the question.\n",
    "Do not include any books, authors, or details that are not explicitly present in the context.\n",
    "\n",
    "Repeat the exact book title and author from the context in your answer.\n",
    "\n",
    "Context:\n",
    "{context_text}\n",
    "\n",
    "Question:\n",
    "{question}\n",
    "\n",
    "Answer:\"\"\"\n",
    "    response = chat_llm.invoke(prompt)\n",
    "    \n",
    "    return response.content.strip()"
   ]
  },
  {
   "cell_type": "code",
   "execution_count": 12,
   "id": "a62899e1-4a7b-422e-921f-e2b3eea50bf4",
   "metadata": {},
   "outputs": [],
   "source": [
    "def create_dynamic_ground_truth(question, books_info):\n",
    "    \n",
    "    if not books_info:\n",
    "        return \"No relevant books found.\"\n",
    "        \n",
    "    best_book = max(books_info, key=lambda x: float(x.get('rating_score', 0)))\n",
    "    \n",
    "    if \"science fiction\" in question.lower():\n",
    "        return f\"A good science fiction book is '{best_book['book_title']}' by {best_book['author_name']}.\"\n",
    "        \n",
    "    elif \"fantasy\" in question.lower():\n",
    "        return f\"'{best_book['book_title']}' by {best_book['author_name']}' is a good fantasy book.\"\n",
    "        \n",
    "    elif \"mystery\" in question.lower():\n",
    "        return f\"'{best_book['book_title']}' by {best_book['author_name']}' is a good mystery novel.\"\n",
    "        \n",
    "    else:\n",
    "        return f\"I recommend '{best_book['book_title']}' by {best_book['author_name']}.\""
   ]
  },
  {
   "cell_type": "code",
   "execution_count": 13,
   "id": "114a1635-6f8d-4597-a0e5-827b5e21e0f6",
   "metadata": {},
   "outputs": [],
   "source": [
    "def run_ragas_demo():\n",
    "    print(\"🚀 Demo:\\n\")\n",
    "\n",
    "    demo_questions = [\n",
    "        \"What's a good science fiction book with high ratings?\",\n",
    "        \"Can you suggest a fantasy book by a popular author?\", \n",
    "        \"What's a highly rated mystery novel?\",\n",
    "        \"Recommend a book with good reviews\"\n",
    "    ]\n",
    "\n",
    "    questions, contexts_list, answers, ground_truths = [], [], [], []\n",
    "\n",
    "    for i, question in enumerate(demo_questions, 1):\n",
    "        print(f\"\\n📚 Question {i}: {question}\")\n",
    "        \n",
    "        try:\n",
    "            contexts, books_info = vector_search(question, top_k=3)\n",
    "            if not contexts:\n",
    "                print(f\"No contexts found for question {i}\")\n",
    "                continue\n",
    "                \n",
    "            answer = generate_answer(question, contexts)\n",
    "            print(f\"Answer: {answer[:100]}...\")\n",
    "            ground_truth = create_dynamic_ground_truth(question, books_info)\n",
    "            print(f\"Ground Truth: {ground_truth}\")\n",
    "            questions.append(question)\n",
    "            contexts_list.append(contexts)\n",
    "            answers.append(answer)\n",
    "            ground_truths.append(ground_truth)\n",
    "            \n",
    "        except Exception as e:\n",
    "            print(f\"Error processing question {i}: {e}\")\n",
    "            continue\n",
    "\n",
    "    if not questions:\n",
    "        print(\"\\nNo valid Q&A pairs generated.\")\n",
    "        return None\n",
    "\n",
    "    eval_dataset = Dataset.from_dict({\n",
    "        \"question\": questions,\n",
    "        \"contexts\": contexts_list,\n",
    "        \"answer\": answers,\n",
    "        \"ground_truth\": ground_truths,\n",
    "    })\n",
    "\n",
    "    print(\"\\n✨ Running Ragas evaluation...\")\n",
    "    try:\n",
    "        result = evaluate(\n",
    "            dataset=eval_dataset,\n",
    "            metrics=[context_precision, faithfulness, answer_relevancy],\n",
    "            llm=chat_llm,\n",
    "            embeddings=None\n",
    "        )\n",
    "        \n",
    "        df = result.to_pandas()\n",
    "        \n",
    "        print(\"\\n✨ Ragas Evaluation Results:\")\n",
    "        print(df)\n",
    "        \n",
    "        print(\"\\✨ Averages:\")\n",
    "        \n",
    "        for metric, value in df.mean(numeric_only=True).items():\n",
    "            print(f\"{metric}: {value:.3f}\")\n",
    "            \n",
    "        df.to_csv(\"ragas_evaluation.csv\", index=False)\n",
    "        print(\"\\nResults saved to 'ragas_evaluation.csv'\")\n",
    "        return result\n",
    "        \n",
    "    except Exception as e:\n",
    "        print(f\"Ragas evaluation failed: {e}\")\n",
    "        return None"
   ]
  },
  {
   "cell_type": "code",
   "execution_count": 14,
   "id": "db4685c5-7cc0-4e2a-875f-bc233d6d4591",
   "metadata": {},
   "outputs": [
    {
     "name": "stdout",
     "output_type": "stream",
     "text": [
      "🚀 Demo:\n",
      "\n",
      "\n",
      "📚 Question 1: What's a good science fiction book with high ratings?\n",
      "Answer: \"Light of the Jedi\" by Charles Soule...\n",
      "Ground Truth: A good science fiction book is 'Light of the Jedi' by Charles Soule.\n",
      "\n",
      "📚 Question 2: Can you suggest a fantasy book by a popular author?\n",
      "Answer: The Book of Time by Guillaume Prévost...\n",
      "Ground Truth: 'Trade Secret' by Sharon Lee' is a good fantasy book.\n",
      "\n",
      "📚 Question 3: What's a highly rated mystery novel?\n",
      "Answer: A highly rated mystery novel is \"Human Nature\" by Jonathan Green....\n",
      "Ground Truth: 'On the Steel Breeze' by Alastair Reynolds' is a good mystery novel.\n",
      "\n",
      "📚 Question 4: Recommend a book with good reviews\n",
      "Answer: The Island of Doctor Moreau by H.G. Wells...\n",
      "Ground Truth: I recommend 'Savage Drift' by Emmy Laybourne.\n",
      "\n",
      "✨ Running Ragas evaluation...\n"
     ]
    },
    {
     "data": {
      "application/vnd.jupyter.widget-view+json": {
       "model_id": "fc866f2274bd4d1fbbc8ef8f131a0ba4",
       "version_major": 2,
       "version_minor": 0
      },
      "text/plain": [
       "Evaluating:   0%|          | 0/12 [00:00<?, ?it/s]"
      ]
     },
     "metadata": {},
     "output_type": "display_data"
    },
    {
     "name": "stdout",
     "output_type": "stream",
     "text": [
      "\n",
      "✨ Ragas Evaluation Results:\n",
      "                                          user_input  \\\n",
      "0  What's a good science fiction book with high r...   \n",
      "1  Can you suggest a fantasy book by a popular au...   \n",
      "2               What's a highly rated mystery novel?   \n",
      "3                 Recommend a book with good reviews   \n",
      "\n",
      "                                  retrieved_contexts  \\\n",
      "0  [Light of the Jedi by Charles Soule: Two hundr...   \n",
      "1  [Alien Warrior's Mate by Vi Voxley: He's damn ...   \n",
      "2  [The Island of Doctor Moreau by H.G. Wells: Ra...   \n",
      "3  [The Island of Doctor Moreau by H.G. Wells: Ra...   \n",
      "\n",
      "                                            response  \\\n",
      "0               \"Light of the Jedi\" by Charles Soule   \n",
      "1              The Book of Time by Guillaume Prévost   \n",
      "2  A highly rated mystery novel is \"Human Nature\"...   \n",
      "3          The Island of Doctor Moreau by H.G. Wells   \n",
      "\n",
      "                                           reference  context_precision  \\\n",
      "0  A good science fiction book is 'Light of the J...           1.000000   \n",
      "1  'Trade Secret' by Sharon Lee' is a good fantas...           0.333333   \n",
      "2  'On the Steel Breeze' by Alastair Reynolds' is...           0.000000   \n",
      "3      I recommend 'Savage Drift' by Emmy Laybourne.           0.333333   \n",
      "\n",
      "   faithfulness  answer_relevancy  \n",
      "0      1.000000          0.794959  \n",
      "1      0.000000          0.796928  \n",
      "2      0.500000          0.993955  \n",
      "3      0.666667          0.742594  \n",
      "\\✨ Averages:\n",
      "context_precision: 0.417\n",
      "faithfulness: 0.542\n",
      "answer_relevancy: 0.832\n",
      "\n",
      "Results saved to 'ragas_evaluation.csv'\n",
      "\n",
      "🎉 Demo completed successfully!\n"
     ]
    }
   ],
   "source": [
    "try:\n",
    "    results = run_ragas_demo()\n",
    "    if results:\n",
    "        print(\"\\n🎉 Demo completed successfully!\")\n",
    "    else:\n",
    "        print(\"\\nDemo completed with issues.\")\n",
    "        \n",
    "except Exception as e:\n",
    "    print(f\"\\nError during demo: {e}\")\n",
    "    import traceback\n",
    "    traceback.print_exc()"
   ]
  }
 ],
 "metadata": {
  "kernelspec": {
   "display_name": "Python 3 (ipykernel)",
   "language": "python",
   "name": "python3"
  },
  "language_info": {
   "codemirror_mode": {
    "name": "ipython",
    "version": 3
   },
   "file_extension": ".py",
   "mimetype": "text/x-python",
   "name": "python",
   "nbconvert_exporter": "python",
   "pygments_lexer": "ipython3",
   "version": "3.12.1"
  }
 },
 "nbformat": 4,
 "nbformat_minor": 5
}
